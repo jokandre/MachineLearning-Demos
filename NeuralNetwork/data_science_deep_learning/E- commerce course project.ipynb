{
 "cells": [
  {
   "cell_type": "code",
   "execution_count": 4,
   "metadata": {
    "collapsed": true
   },
   "outputs": [],
   "source": [
    "import numpy as np\n",
    "import pandas as pd"
   ]
  },
  {
   "cell_type": "markdown",
   "metadata": {},
   "source": [
    "# Load data "
   ]
  },
  {
   "cell_type": "code",
   "execution_count": 13,
   "metadata": {
    "collapsed": false,
    "scrolled": true
   },
   "outputs": [
    {
     "data": {
      "text/plain": [
       "array([0, 1, 0, 2, 2, 2, 0, 0, 1, 0, 3, 0, 0, 1, 0, 3, 1, 1, 1, 0, 2, 0, 0,\n",
       "       3, 0, 1, 0, 0, 2, 2, 0, 1, 2, 2, 1, 0, 0, 1, 1, 0, 2, 1, 0, 1, 3, 0,\n",
       "       1, 0, 0, 1, 2, 3, 1, 2, 1, 1, 0, 0, 1, 1, 0, 0, 1, 0, 0, 1, 1, 1, 1,\n",
       "       1, 0, 0, 0, 0, 0, 0, 1, 2, 0, 2, 0, 0, 0, 0, 0, 0, 0, 0, 2, 3, 0, 2,\n",
       "       1, 1, 3, 1, 0, 3, 0, 2, 0, 2, 0, 1, 0, 1, 0, 0, 1, 0, 2, 3, 1, 0, 0,\n",
       "       1, 0, 0, 1, 0, 2, 0, 1, 0, 1, 1, 2, 0, 0, 0, 0, 0, 1, 0, 1, 0, 0, 2,\n",
       "       2, 0, 0, 2, 0, 0, 0, 1, 2, 1, 2, 0, 2, 2, 0, 2, 2, 0, 0, 0, 3, 1, 1,\n",
       "       1, 0, 0, 1, 1, 0, 2, 0, 0, 0, 0, 0, 2, 0, 1, 0, 1, 0, 0, 0, 2, 0, 1,\n",
       "       0, 2, 1, 1, 0, 1, 2, 0, 0, 0, 0, 3, 0, 1, 0, 0, 0, 0, 1, 0, 3, 0, 2,\n",
       "       0, 0, 1, 0, 1, 0, 0, 0, 0, 1, 1, 3, 3, 1, 0, 1, 1, 1, 0, 1, 0, 1, 1,\n",
       "       1, 0, 0, 0, 0, 0, 1, 0, 1, 1, 2, 0, 0, 1, 2, 0, 2, 0, 0, 1, 3, 1, 2,\n",
       "       0, 2, 0, 0, 0, 1, 0, 0, 0, 0, 0, 0, 1, 3, 0, 0, 1, 0, 2, 2, 1, 0, 2,\n",
       "       0, 0, 3, 2, 1, 0, 3, 0, 0, 1, 0, 2, 0, 1, 0, 1, 0, 1, 0, 0, 1, 0, 1,\n",
       "       1, 0, 2, 1, 1, 0, 0, 1, 0, 2, 0, 0, 2, 0, 1, 1, 1, 1, 2, 1, 1, 1, 1,\n",
       "       0, 0, 0, 0, 2, 1, 1, 0, 1, 1, 0, 0, 0, 0, 1, 0, 0, 1, 0, 2, 0, 0, 0,\n",
       "       1, 0, 1, 0, 0, 1, 1, 1, 0, 0, 0, 0, 1, 1, 1, 0, 0, 0, 1, 0, 1, 2, 1,\n",
       "       0, 0, 0, 2, 3, 2, 0, 2, 0, 2, 0, 0, 0, 1, 2, 3, 1, 1, 1, 2, 3, 0, 1,\n",
       "       0, 0, 0, 0, 1, 0, 1, 1, 0, 1, 0, 1, 0, 2, 0, 1, 0, 2, 2, 1, 0, 2, 0,\n",
       "       1, 0, 0, 0, 0, 2, 1, 0, 0, 0, 1, 2, 0, 1, 0, 0, 0, 0, 2, 2, 0, 2, 2,\n",
       "       3, 1, 0, 0, 2, 0, 0, 3, 0, 0, 2, 0, 0, 1, 0, 2, 1, 1, 0, 1, 0, 0, 0,\n",
       "       1, 0, 0, 0, 0, 1, 1, 1, 0, 1, 0, 0, 2, 0, 2, 0, 3, 0, 0, 0, 0, 0, 2,\n",
       "       2, 1, 1, 1, 0, 1, 1, 3, 0, 0, 0, 2, 2, 0, 0, 0, 0], dtype=int64)"
      ]
     },
     "execution_count": 13,
     "metadata": {},
     "output_type": "execute_result"
    }
   ],
   "source": [
    "#def get_data():\n",
    "df = pd.read_csv('ecommerce_data.csv')\n",
    "# get sample data\n",
    "X = df.drop('user_action', axis = 1)\n",
    "# get target sample data\n",
    "Y = df['user_action']\n",
    "Y.head() "
   ]
  },
  {
   "cell_type": "markdown",
   "metadata": {},
   "source": [
    "# Preprocessing"
   ]
  },
  {
   "cell_type": "code",
   "execution_count": 3,
   "metadata": {
    "collapsed": false
   },
   "outputs": [
    {
     "data": {
      "text/html": [
       "<div>\n",
       "<table border=\"1\" class=\"dataframe\">\n",
       "  <thead>\n",
       "    <tr style=\"text-align: right;\">\n",
       "      <th></th>\n",
       "      <th>is_mobile</th>\n",
       "      <th>n_products_viewed</th>\n",
       "      <th>visit_duration</th>\n",
       "      <th>is_returning_visitor</th>\n",
       "      <th>time_of_day</th>\n",
       "    </tr>\n",
       "  </thead>\n",
       "  <tbody>\n",
       "    <tr>\n",
       "      <th>0</th>\n",
       "      <td>1</td>\n",
       "      <td>-0.816161</td>\n",
       "      <td>-0.407869</td>\n",
       "      <td>0</td>\n",
       "      <td>3</td>\n",
       "    </tr>\n",
       "    <tr>\n",
       "      <th>1</th>\n",
       "      <td>1</td>\n",
       "      <td>0.139531</td>\n",
       "      <td>-0.498929</td>\n",
       "      <td>0</td>\n",
       "      <td>2</td>\n",
       "    </tr>\n",
       "    <tr>\n",
       "      <th>2</th>\n",
       "      <td>1</td>\n",
       "      <td>-0.816161</td>\n",
       "      <td>-1.037804</td>\n",
       "      <td>1</td>\n",
       "      <td>1</td>\n",
       "    </tr>\n",
       "    <tr>\n",
       "      <th>3</th>\n",
       "      <td>1</td>\n",
       "      <td>0.139531</td>\n",
       "      <td>0.618313</td>\n",
       "      <td>1</td>\n",
       "      <td>1</td>\n",
       "    </tr>\n",
       "    <tr>\n",
       "      <th>4</th>\n",
       "      <td>0</td>\n",
       "      <td>0.139531</td>\n",
       "      <td>0.981728</td>\n",
       "      <td>1</td>\n",
       "      <td>1</td>\n",
       "    </tr>\n",
       "  </tbody>\n",
       "</table>\n",
       "</div>"
      ],
      "text/plain": [
       "   is_mobile  n_products_viewed  visit_duration  is_returning_visitor  \\\n",
       "0          1          -0.816161       -0.407869                     0   \n",
       "1          1           0.139531       -0.498929                     0   \n",
       "2          1          -0.816161       -1.037804                     1   \n",
       "3          1           0.139531        0.618313                     1   \n",
       "4          0           0.139531        0.981728                     1   \n",
       "\n",
       "   time_of_day  \n",
       "0            3  \n",
       "1            2  \n",
       "2            1  \n",
       "3            1  \n",
       "4            1  "
      ]
     },
     "execution_count": 3,
     "metadata": {},
     "output_type": "execute_result"
    }
   ],
   "source": [
    "# normalize column n_products_viewed and visit_duration\n",
    "cols_to_norm = ['n_products_viewed','visit_duration']\n",
    "X[cols_to_norm] = X[cols_to_norm].apply(lambda x: (x - x.mean()) / x.std())\n",
    "\n",
    "X.head()"
   ]
  },
  {
   "cell_type": "code",
   "execution_count": 4,
   "metadata": {
    "collapsed": false,
    "scrolled": false
   },
   "outputs": [
    {
     "data": {
      "text/html": [
       "<div>\n",
       "<table border=\"1\" class=\"dataframe\">\n",
       "  <thead>\n",
       "    <tr style=\"text-align: right;\">\n",
       "      <th></th>\n",
       "      <th>is_mobile</th>\n",
       "      <th>n_products_viewed</th>\n",
       "      <th>visit_duration</th>\n",
       "      <th>is_returning_visitor</th>\n",
       "      <th>time_of_day_0</th>\n",
       "      <th>time_of_day_1</th>\n",
       "      <th>time_of_day_2</th>\n",
       "      <th>time_of_day_3</th>\n",
       "    </tr>\n",
       "  </thead>\n",
       "  <tbody>\n",
       "    <tr>\n",
       "      <th>0</th>\n",
       "      <td>1</td>\n",
       "      <td>-0.816161</td>\n",
       "      <td>-0.407869</td>\n",
       "      <td>0</td>\n",
       "      <td>0.0</td>\n",
       "      <td>0.0</td>\n",
       "      <td>0.0</td>\n",
       "      <td>1.0</td>\n",
       "    </tr>\n",
       "    <tr>\n",
       "      <th>1</th>\n",
       "      <td>1</td>\n",
       "      <td>0.139531</td>\n",
       "      <td>-0.498929</td>\n",
       "      <td>0</td>\n",
       "      <td>0.0</td>\n",
       "      <td>0.0</td>\n",
       "      <td>1.0</td>\n",
       "      <td>0.0</td>\n",
       "    </tr>\n",
       "    <tr>\n",
       "      <th>2</th>\n",
       "      <td>1</td>\n",
       "      <td>-0.816161</td>\n",
       "      <td>-1.037804</td>\n",
       "      <td>1</td>\n",
       "      <td>0.0</td>\n",
       "      <td>1.0</td>\n",
       "      <td>0.0</td>\n",
       "      <td>0.0</td>\n",
       "    </tr>\n",
       "    <tr>\n",
       "      <th>3</th>\n",
       "      <td>1</td>\n",
       "      <td>0.139531</td>\n",
       "      <td>0.618313</td>\n",
       "      <td>1</td>\n",
       "      <td>0.0</td>\n",
       "      <td>1.0</td>\n",
       "      <td>0.0</td>\n",
       "      <td>0.0</td>\n",
       "    </tr>\n",
       "    <tr>\n",
       "      <th>4</th>\n",
       "      <td>0</td>\n",
       "      <td>0.139531</td>\n",
       "      <td>0.981728</td>\n",
       "      <td>1</td>\n",
       "      <td>0.0</td>\n",
       "      <td>1.0</td>\n",
       "      <td>0.0</td>\n",
       "      <td>0.0</td>\n",
       "    </tr>\n",
       "  </tbody>\n",
       "</table>\n",
       "</div>"
      ],
      "text/plain": [
       "   is_mobile  n_products_viewed  visit_duration  is_returning_visitor  \\\n",
       "0          1          -0.816161       -0.407869                     0   \n",
       "1          1           0.139531       -0.498929                     0   \n",
       "2          1          -0.816161       -1.037804                     1   \n",
       "3          1           0.139531        0.618313                     1   \n",
       "4          0           0.139531        0.981728                     1   \n",
       "\n",
       "   time_of_day_0  time_of_day_1  time_of_day_2  time_of_day_3  \n",
       "0            0.0            0.0            0.0            1.0  \n",
       "1            0.0            0.0            1.0            0.0  \n",
       "2            0.0            1.0            0.0            0.0  \n",
       "3            0.0            1.0            0.0            0.0  \n",
       "4            0.0            1.0            0.0            0.0  "
      ]
     },
     "execution_count": 4,
     "metadata": {},
     "output_type": "execute_result"
    }
   ],
   "source": [
    "# One-Hot encoding for categorical column time_of_day\n",
    "one_hot = pd.get_dummies(X['time_of_day'], prefix = 'time_of_day')\n",
    "X.drop('time_of_day', axis=1, inplace=True)\n",
    "X = X.join(one_hot)\n",
    "X.head()"
   ]
  },
  {
   "cell_type": "markdown",
   "metadata": {},
   "source": [
    "## Wrapping it as a function"
   ]
  },
  {
   "cell_type": "code",
   "execution_count": 28,
   "metadata": {
    "collapsed": false
   },
   "outputs": [],
   "source": [
    "def get_data():\n",
    "    df = pd.read_csv('ecommerce_data.csv')\n",
    "    # get sample data\n",
    "    X = df.drop('user_action', axis = 1)\n",
    "    # get target sample data\n",
    "    Y = df['user_action']\n",
    "\n",
    "    # normalize column n_products_viewed and visit_duration\n",
    "    cols_to_norm = ['n_products_viewed','visit_duration']\n",
    "    X[cols_to_norm] = X[cols_to_norm].apply(lambda x: (x - x.mean()) / x.std())\n",
    "\n",
    "    # One-Hot encoding for categorical column time_of_day\n",
    "    one_hot = pd.get_dummies(X['time_of_day'], prefix = 'time_of_day')\n",
    "    X.drop('time_of_day', axis=1, inplace=True)\n",
    "    X = X.join(one_hot)\n",
    "    \n",
    "    return X, Y\n",
    "\n",
    "    "
   ]
  },
  {
   "cell_type": "markdown",
   "metadata": {},
   "source": [
    "## Get only binary data for logistic regression training"
   ]
  },
  {
   "cell_type": "code",
   "execution_count": 29,
   "metadata": {
    "collapsed": false,
    "scrolled": true
   },
   "outputs": [
    {
     "data": {
      "text/plain": [
       "count    500.00000\n",
       "mean       0.74800\n",
       "std        0.89336\n",
       "min        0.00000\n",
       "25%        0.00000\n",
       "50%        0.00000\n",
       "75%        1.00000\n",
       "max        3.00000\n",
       "Name: user_action, dtype: float64"
      ]
     },
     "execution_count": 29,
     "metadata": {},
     "output_type": "execute_result"
    }
   ],
   "source": [
    "# get only binary data for logistic regression training\n",
    "#def get_binary_data():\n",
    "X, Y = get_data()\n",
    "Y.describe()"
   ]
  },
  {
   "cell_type": "code",
   "execution_count": 30,
   "metadata": {
    "collapsed": false
   },
   "outputs": [
    {
     "data": {
      "text/plain": [
       "count    398.000000\n",
       "mean       0.364322\n",
       "std        0.481845\n",
       "min        0.000000\n",
       "25%        0.000000\n",
       "50%        0.000000\n",
       "75%        1.000000\n",
       "max        1.000000\n",
       "Name: user_action, dtype: float64"
      ]
     },
     "execution_count": 30,
     "metadata": {},
     "output_type": "execute_result"
    }
   ],
   "source": [
    "X2 = X[Y<=1]\n",
    "Y2 = Y[Y<=1]\n",
    "Y2.describe() "
   ]
  },
  {
   "cell_type": "markdown",
   "metadata": {},
   "source": [
    "## ...as a funtion"
   ]
  },
  {
   "cell_type": "code",
   "execution_count": 31,
   "metadata": {
    "collapsed": true
   },
   "outputs": [],
   "source": [
    "def get_binary_data():\n",
    "    X, Y = get_data()\n",
    "    X2 = X[Y<=1]\n",
    "    Y2 = Y[Y<=1]\n",
    "    \n",
    "    return X2, Y2 "
   ]
  },
  {
   "cell_type": "markdown",
   "metadata": {},
   "source": [
    "# Making prediction"
   ]
  },
  {
   "cell_type": "code",
   "execution_count": 55,
   "metadata": {
    "collapsed": false,
    "scrolled": true
   },
   "outputs": [],
   "source": [
    "X, Y =  get_data()\n",
    "X = X.as_matrix()\n",
    "Y = Y.as_matrix()\n",
    "\n",
    "# randomly initialize weights\n",
    "\n",
    "# no. hidden units\n",
    "M = 5 \n",
    "\n",
    "# no. features\n",
    "D = X.shape[1] \n",
    "\n",
    "# no. unique values on Y\n",
    "K = len(set(Y))\n",
    "\n",
    "# layer 1 weights and bias\n",
    "W1 = np.random.randn(D, M) \n",
    "b1 = np.zeros(M)\n",
    "# layer 2 weights and bias\n",
    "W2 = np.random.randn(M, K)\n",
    "b2 = np.zeros(K)\n",
    "\n"
   ]
  },
  {
   "cell_type": "markdown",
   "metadata": {},
   "source": [
    "Softmax \n",
    "$$f_j(z) = \\frac{e^{z_j}}{\\sum_k e^{z_k}}$$\n",
    "\n",
    "Forward propagation\n",
    "$$f(x_i, W, b) =  W x_i + b$$"
   ]
  },
  {
   "cell_type": "code",
   "execution_count": 56,
   "metadata": {
    "collapsed": false
   },
   "outputs": [
    {
     "name": "stdout",
     "output_type": "stream",
     "text": [
      "[[ 0.53689694  0.05554514  0.00476827  0.40278964]\n",
      " [ 0.13867359  0.13753007  0.67136608  0.05243027]\n",
      " [ 0.3383697   0.2840337   0.30957083  0.06802577]\n",
      " ..., \n",
      " [ 0.52758605  0.09027827  0.03015522  0.35198046]\n",
      " [ 0.5726278   0.06936453  0.00234873  0.35565894]\n",
      " [ 0.00203329  0.00410359  0.84992726  0.14393585]]\n",
      "[0 2 0 2 2 2 2 0 2 0 2 0 0 3 0 2 2 2 2 0 2 0 0 2 0 0 2 3 2 2 0 2 2 2 2 0 0\n",
      " 2 3 2 2 2 0 2 2 2 2 2 2 2 2 2 3 2 2 2 2 3 2 2 0 3 3 0 2 3 2 3 2 3 2 0 2 2\n",
      " 0 3 2 2 0 2 2 2 0 0 3 2 2 2 2 2 0 2 3 2 2 2 2 2 0 2 2 2 0 2 0 2 2 2 2 0 2\n",
      " 2 0 0 2 2 0 2 3 0 2 2 2 3 3 3 2 0 2 2 0 0 2 0 3 2 2 2 2 2 3 3 2 2 2 2 2 0\n",
      " 2 2 2 2 2 2 2 2 2 2 2 2 2 2 2 2 2 2 2 3 2 2 2 3 2 2 2 2 2 2 2 0 2 2 2 0 2\n",
      " 2 2 2 0 0 2 3 1 2 0 2 3 2 2 0 2 2 2 2 2 2 2 3 3 2 2 3 2 3 0 2 0 3 2 2 2 2\n",
      " 0 2 3 0 3 2 3 3 2 0 3 0 0 2 0 2 2 2 2 2 2 3 2 0 2 0 2 2 2 0 2 1 2 0 3 2 3\n",
      " 0 2 3 2 2 2 0 2 2 2 2 2 2 2 2 2 2 3 2 2 2 3 2 2 0 0 2 2 2 2 3 2 2 2 2 2 0\n",
      " 2 0 3 2 0 2 3 3 2 2 2 3 2 2 2 2 2 0 2 3 2 2 2 2 3 2 0 0 3 3 2 2 2 0 3 2 2\n",
      " 2 2 2 3 0 0 2 0 2 2 2 2 0 3 2 2 2 0 2 2 2 2 2 3 2 2 3 2 2 2 2 2 2 2 0 2 2\n",
      " 2 2 2 2 0 2 0 2 2 2 0 2 2 2 2 0 2 2 2 2 2 2 3 3 0 2 2 2 0 2 2 0 0 2 2 2 2\n",
      " 2 2 2 2 2 2 0 2 2 2 2 3 2 2 2 0 2 0 2 2 2 2 2 3 2 2 2 2 2 2 2 3 0 2 2 2 2\n",
      " 2 0 2 2 1 3 2 2 2 2 2 2 2 2 2 2 2 2 2 0 2 2 2 2 2 0 0 1 2 2 3 2 2 2 0 0 2\n",
      " 2 2 2 2 2 2 0 2 2 2 0 2 2 2 2 2 0 0 2]\n",
      "Score: 0.298\n"
     ]
    }
   ],
   "source": [
    "def softmax(a):\n",
    "    expA = np.exp(a)\n",
    "    return expA / expA.sum(axis=1, keepdims=True)\n",
    "\n",
    "# Predicting probability based on initialized weights\n",
    "def forward(X, W1, b1, W2, b2):\n",
    "    # activation function\n",
    "    Z = np.tanh(X.dot(W1)+b1)\n",
    "    return softmax(Z.dot(W2)+b2)\n",
    "\n",
    "# calculate probability for each class\n",
    "P_Y_given_X = forward(X, W1, b1, W2, b2) \n",
    "print(P_Y_given_X)\n",
    "\n",
    "# pick highest probability\n",
    "predictions = np.argmax( P_Y_given_X, axis=1)\n",
    "print(predictions)\n",
    "\n",
    "# calculate the accuracy\n",
    "def classification_rate(Y, P):\n",
    "    return np.mean(Y == P)\n",
    "\n",
    "print( \"Score:\", classification_rate(Y, predictions))"
   ]
  },
  {
   "cell_type": "code",
   "execution_count": null,
   "metadata": {
    "collapsed": true
   },
   "outputs": [],
   "source": []
  }
 ],
 "metadata": {
  "anaconda-cloud": {},
  "kernelspec": {
   "display_name": "Python [default]",
   "language": "python",
   "name": "python3"
  },
  "language_info": {
   "codemirror_mode": {
    "name": "ipython",
    "version": 3
   },
   "file_extension": ".py",
   "mimetype": "text/x-python",
   "name": "python",
   "nbconvert_exporter": "python",
   "pygments_lexer": "ipython3",
   "version": "3.5.2"
  }
 },
 "nbformat": 4,
 "nbformat_minor": 1
}
