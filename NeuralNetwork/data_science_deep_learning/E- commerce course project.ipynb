{
 "cells": [
  {
   "cell_type": "code",
   "execution_count": 1,
   "metadata": {
    "collapsed": true
   },
   "outputs": [],
   "source": [
    "# basic lib\n",
    "import numpy as np\n",
    "import pandas as pd\n",
    "\n",
    "# visualization\n",
    "import matplotlib.pyplot as plt\n",
    "import seaborn as sns\n",
    "%matplotlib inline"
   ]
  },
  {
   "cell_type": "markdown",
   "metadata": {},
   "source": [
    "# Load data "
   ]
  },
  {
   "cell_type": "code",
   "execution_count": 23,
   "metadata": {
    "collapsed": false,
    "scrolled": true
   },
   "outputs": [
    {
     "data": {
      "text/html": [
       "<div>\n",
       "<table border=\"1\" class=\"dataframe\">\n",
       "  <thead>\n",
       "    <tr style=\"text-align: right;\">\n",
       "      <th></th>\n",
       "      <th>is_mobile</th>\n",
       "      <th>n_products_viewed</th>\n",
       "      <th>visit_duration</th>\n",
       "      <th>is_returning_visitor</th>\n",
       "      <th>time_of_day</th>\n",
       "      <th>user_action</th>\n",
       "    </tr>\n",
       "  </thead>\n",
       "  <tbody>\n",
       "    <tr>\n",
       "      <th>0</th>\n",
       "      <td>1</td>\n",
       "      <td>0</td>\n",
       "      <td>0.657510</td>\n",
       "      <td>0</td>\n",
       "      <td>3</td>\n",
       "      <td>0</td>\n",
       "    </tr>\n",
       "    <tr>\n",
       "      <th>1</th>\n",
       "      <td>1</td>\n",
       "      <td>1</td>\n",
       "      <td>0.568571</td>\n",
       "      <td>0</td>\n",
       "      <td>2</td>\n",
       "      <td>1</td>\n",
       "    </tr>\n",
       "    <tr>\n",
       "      <th>2</th>\n",
       "      <td>1</td>\n",
       "      <td>0</td>\n",
       "      <td>0.042246</td>\n",
       "      <td>1</td>\n",
       "      <td>1</td>\n",
       "      <td>0</td>\n",
       "    </tr>\n",
       "    <tr>\n",
       "      <th>3</th>\n",
       "      <td>1</td>\n",
       "      <td>1</td>\n",
       "      <td>1.659793</td>\n",
       "      <td>1</td>\n",
       "      <td>1</td>\n",
       "      <td>2</td>\n",
       "    </tr>\n",
       "    <tr>\n",
       "      <th>4</th>\n",
       "      <td>0</td>\n",
       "      <td>1</td>\n",
       "      <td>2.014745</td>\n",
       "      <td>1</td>\n",
       "      <td>1</td>\n",
       "      <td>2</td>\n",
       "    </tr>\n",
       "  </tbody>\n",
       "</table>\n",
       "</div>"
      ],
      "text/plain": [
       "   is_mobile  n_products_viewed  visit_duration  is_returning_visitor  \\\n",
       "0          1                  0        0.657510                     0   \n",
       "1          1                  1        0.568571                     0   \n",
       "2          1                  0        0.042246                     1   \n",
       "3          1                  1        1.659793                     1   \n",
       "4          0                  1        2.014745                     1   \n",
       "\n",
       "   time_of_day  user_action  \n",
       "0            3            0  \n",
       "1            2            1  \n",
       "2            1            0  \n",
       "3            1            2  \n",
       "4            1            2  "
      ]
     },
     "execution_count": 23,
     "metadata": {},
     "output_type": "execute_result"
    }
   ],
   "source": [
    "#def get_data():\n",
    "df = pd.read_csv('ecommerce_data.csv')\n",
    "# get sample data\n",
    "X = df.drop('user_action', axis = 1)\n",
    "# get target sample data\n",
    "Y = df['user_action']\n",
    "df.head() "
   ]
  },
  {
   "cell_type": "code",
   "execution_count": 29,
   "metadata": {
    "collapsed": false
   },
   "outputs": [
    {
     "data": {
      "text/plain": [
       "<matplotlib.axes._subplots.AxesSubplot at 0x10cf8240>"
      ]
     },
     "execution_count": 29,
     "metadata": {},
     "output_type": "execute_result"
    },
    {
     "data": {
      "image/png": "[encoded data removed]",
      "text/plain": [
       "<matplotlib.figure.Figure at 0x10cfc710>"
      ]
     },
     "metadata": {},
     "output_type": "display_data"
    }
   ],
   "source": [
    "sns.regplot(x=\"visit_duration\", y=\"user_action\", data=df)\n",
    "#sns.regplot(x=\"n_products_viewed\", y=\"user_action\", data=df)\n",
    "#sns.boxplot(x=\"n_products_viewed\", y=\"user_action\", data=df);"
   ]
  },
  {
   "cell_type": "markdown",
   "metadata": {},
   "source": [
    "# Preprocessing"
   ]
  },
  {
   "cell_type": "code",
   "execution_count": 3,
   "metadata": {
    "collapsed": false
   },
   "outputs": [
    {
     "data": {
      "text/html": [
       "<div>\n",
       "<table border=\"1\" class=\"dataframe\">\n",
       "  <thead>\n",
       "    <tr style=\"text-align: right;\">\n",
       "      <th></th>\n",
       "      <th>is_mobile</th>\n",
       "      <th>n_products_viewed</th>\n",
       "      <th>visit_duration</th>\n",
       "      <th>is_returning_visitor</th>\n",
       "      <th>time_of_day</th>\n",
       "    </tr>\n",
       "  </thead>\n",
       "  <tbody>\n",
       "    <tr>\n",
       "      <th>0</th>\n",
       "      <td>1</td>\n",
       "      <td>-0.816161</td>\n",
       "      <td>-0.407869</td>\n",
       "      <td>0</td>\n",
       "      <td>3</td>\n",
       "    </tr>\n",
       "    <tr>\n",
       "      <th>1</th>\n",
       "      <td>1</td>\n",
       "      <td>0.139531</td>\n",
       "      <td>-0.498929</td>\n",
       "      <td>0</td>\n",
       "      <td>2</td>\n",
       "    </tr>\n",
       "    <tr>\n",
       "      <th>2</th>\n",
       "      <td>1</td>\n",
       "      <td>-0.816161</td>\n",
       "      <td>-1.037804</td>\n",
       "      <td>1</td>\n",
       "      <td>1</td>\n",
       "    </tr>\n",
       "    <tr>\n",
       "      <th>3</th>\n",
       "      <td>1</td>\n",
       "      <td>0.139531</td>\n",
       "      <td>0.618313</td>\n",
       "      <td>1</td>\n",
       "      <td>1</td>\n",
       "    </tr>\n",
       "    <tr>\n",
       "      <th>4</th>\n",
       "      <td>0</td>\n",
       "      <td>0.139531</td>\n",
       "      <td>0.981728</td>\n",
       "      <td>1</td>\n",
       "      <td>1</td>\n",
       "    </tr>\n",
       "  </tbody>\n",
       "</table>\n",
       "</div>"
      ],
      "text/plain": [
       "   is_mobile  n_products_viewed  visit_duration  is_returning_visitor  \\\n",
       "0          1          -0.816161       -0.407869                     0   \n",
       "1          1           0.139531       -0.498929                     0   \n",
       "2          1          -0.816161       -1.037804                     1   \n",
       "3          1           0.139531        0.618313                     1   \n",
       "4          0           0.139531        0.981728                     1   \n",
       "\n",
       "   time_of_day  \n",
       "0            3  \n",
       "1            2  \n",
       "2            1  \n",
       "3            1  \n",
       "4            1  "
      ]
     },
     "execution_count": 3,
     "metadata": {},
     "output_type": "execute_result"
    }
   ],
   "source": [
    "# normalize column n_products_viewed and visit_duration\n",
    "cols_to_norm = ['n_products_viewed','visit_duration']\n",
    "X[cols_to_norm] = X[cols_to_norm].apply(lambda x: (x - x.mean()) / x.std())\n",
    "\n",
    "X.head()"
   ]
  },
  {
   "cell_type": "code",
   "execution_count": 4,
   "metadata": {
    "collapsed": false,
    "scrolled": false
   },
   "outputs": [
    {
     "data": {
      "text/html": [
       "<div>\n",
       "<table border=\"1\" class=\"dataframe\">\n",
       "  <thead>\n",
       "    <tr style=\"text-align: right;\">\n",
       "      <th></th>\n",
       "      <th>is_mobile</th>\n",
       "      <th>n_products_viewed</th>\n",
       "      <th>visit_duration</th>\n",
       "      <th>is_returning_visitor</th>\n",
       "      <th>time_of_day_0</th>\n",
       "      <th>time_of_day_1</th>\n",
       "      <th>time_of_day_2</th>\n",
       "      <th>time_of_day_3</th>\n",
       "    </tr>\n",
       "  </thead>\n",
       "  <tbody>\n",
       "    <tr>\n",
       "      <th>0</th>\n",
       "      <td>1</td>\n",
       "      <td>-0.816161</td>\n",
       "      <td>-0.407869</td>\n",
       "      <td>0</td>\n",
       "      <td>0.0</td>\n",
       "      <td>0.0</td>\n",
       "      <td>0.0</td>\n",
       "      <td>1.0</td>\n",
       "    </tr>\n",
       "    <tr>\n",
       "      <th>1</th>\n",
       "      <td>1</td>\n",
       "      <td>0.139531</td>\n",
       "      <td>-0.498929</td>\n",
       "      <td>0</td>\n",
       "      <td>0.0</td>\n",
       "      <td>0.0</td>\n",
       "      <td>1.0</td>\n",
       "      <td>0.0</td>\n",
       "    </tr>\n",
       "    <tr>\n",
       "      <th>2</th>\n",
       "      <td>1</td>\n",
       "      <td>-0.816161</td>\n",
       "      <td>-1.037804</td>\n",
       "      <td>1</td>\n",
       "      <td>0.0</td>\n",
       "      <td>1.0</td>\n",
       "      <td>0.0</td>\n",
       "      <td>0.0</td>\n",
       "    </tr>\n",
       "    <tr>\n",
       "      <th>3</th>\n",
       "      <td>1</td>\n",
       "      <td>0.139531</td>\n",
       "      <td>0.618313</td>\n",
       "      <td>1</td>\n",
       "      <td>0.0</td>\n",
       "      <td>1.0</td>\n",
       "      <td>0.0</td>\n",
       "      <td>0.0</td>\n",
       "    </tr>\n",
       "    <tr>\n",
       "      <th>4</th>\n",
       "      <td>0</td>\n",
       "      <td>0.139531</td>\n",
       "      <td>0.981728</td>\n",
       "      <td>1</td>\n",
       "      <td>0.0</td>\n",
       "      <td>1.0</td>\n",
       "      <td>0.0</td>\n",
       "      <td>0.0</td>\n",
       "    </tr>\n",
       "  </tbody>\n",
       "</table>\n",
       "</div>"
      ],
      "text/plain": [
       "   is_mobile  n_products_viewed  visit_duration  is_returning_visitor  \\\n",
       "0          1          -0.816161       -0.407869                     0   \n",
       "1          1           0.139531       -0.498929                     0   \n",
       "2          1          -0.816161       -1.037804                     1   \n",
       "3          1           0.139531        0.618313                     1   \n",
       "4          0           0.139531        0.981728                     1   \n",
       "\n",
       "   time_of_day_0  time_of_day_1  time_of_day_2  time_of_day_3  \n",
       "0            0.0            0.0            0.0            1.0  \n",
       "1            0.0            0.0            1.0            0.0  \n",
       "2            0.0            1.0            0.0            0.0  \n",
       "3            0.0            1.0            0.0            0.0  \n",
       "4            0.0            1.0            0.0            0.0  "
      ]
     },
     "execution_count": 4,
     "metadata": {},
     "output_type": "execute_result"
    }
   ],
   "source": [
    "# One-Hot encoding for categorical column time_of_day\n",
    "one_hot = pd.get_dummies(X['time_of_day'], prefix = 'time_of_day')\n",
    "X.drop('time_of_day', axis=1, inplace=True)\n",
    "X = X.join(one_hot)\n",
    "X.head()"
   ]
  },
  {
   "cell_type": "markdown",
   "metadata": {},
   "source": [
    "## Wrapping it as a function"
   ]
  },
  {
   "cell_type": "code",
   "execution_count": 13,
   "metadata": {
    "collapsed": false
   },
   "outputs": [],
   "source": [
    "def get_data():\n",
    "    df = pd.read_csv('ecommerce_data.csv')\n",
    "    # get sample data\n",
    "    X = df.drop('user_action', axis = 1)\n",
    "    # get target sample data\n",
    "    Y = df['user_action']\n",
    "\n",
    "    # normalize column n_products_viewed and visit_duration\n",
    "    cols_to_norm = ['n_products_viewed','visit_duration']\n",
    "    X[cols_to_norm] = X[cols_to_norm].apply(lambda x: (x - x.mean()) / x.std())\n",
    "\n",
    "    # One-Hot encoding for categorical column time_of_day\n",
    "    one_hot = pd.get_dummies(X['time_of_day'], prefix = 'time_of_day')\n",
    "    X.drop('time_of_day', axis=1, inplace=True)\n",
    "    X = X.join(one_hot)\n",
    "    \n",
    "    return X, Y\n",
    "\n",
    "    "
   ]
  },
  {
   "cell_type": "markdown",
   "metadata": {},
   "source": [
    "## Get only binary data for logistic regression training"
   ]
  },
  {
   "cell_type": "code",
   "execution_count": 29,
   "metadata": {
    "collapsed": false,
    "scrolled": true
   },
   "outputs": [
    {
     "data": {
      "text/plain": [
       "count    500.00000\n",
       "mean       0.74800\n",
       "std        0.89336\n",
       "min        0.00000\n",
       "25%        0.00000\n",
       "50%        0.00000\n",
       "75%        1.00000\n",
       "max        3.00000\n",
       "Name: user_action, dtype: float64"
      ]
     },
     "execution_count": 29,
     "metadata": {},
     "output_type": "execute_result"
    }
   ],
   "source": [
    "# get only binary data for logistic regression training\n",
    "#def get_binary_data():\n",
    "X, Y = get_data()\n",
    "Y.describe()"
   ]
  },
  {
   "cell_type": "code",
   "execution_count": 14,
   "metadata": {
    "collapsed": false
   },
   "outputs": [
    {
     "data": {
      "text/plain": [
       "count    398.000000\n",
       "mean       0.364322\n",
       "std        0.481845\n",
       "min        0.000000\n",
       "25%        0.000000\n",
       "50%        0.000000\n",
       "75%        1.000000\n",
       "max        1.000000\n",
       "Name: user_action, dtype: float64"
      ]
     },
     "execution_count": 14,
     "metadata": {},
     "output_type": "execute_result"
    }
   ],
   "source": [
    "X2 = X[Y<=1]\n",
    "Y2 = Y[Y<=1]\n",
    "Y2.describe() "
   ]
  },
  {
   "cell_type": "markdown",
   "metadata": {},
   "source": [
    "## ...as a funtion"
   ]
  },
  {
   "cell_type": "code",
   "execution_count": 15,
   "metadata": {
    "collapsed": true
   },
   "outputs": [],
   "source": [
    "def get_binary_data():\n",
    "    X, Y = get_data()\n",
    "    X2 = X[Y<=1]\n",
    "    Y2 = Y[Y<=1]\n",
    "    \n",
    "    return X2, Y2 "
   ]
  },
  {
   "cell_type": "markdown",
   "metadata": {},
   "source": [
    "# Making prediction"
   ]
  },
  {
   "cell_type": "code",
   "execution_count": 45,
   "metadata": {
    "collapsed": false,
    "scrolled": true
   },
   "outputs": [],
   "source": [
    "X, Y =  get_data()\n",
    "X = X.as_matrix()\n",
    "Y = Y.as_matrix()\n",
    "\n",
    "# hidden units\n",
    "M = 5\n",
    "# no. features\n",
    "D = X.shape[1] \n",
    "\n",
    "# no. unique values on Y\n",
    "K = len(set(Y))\n",
    "\n",
    "# layer 1 weights and bias\n",
    "W1 = np.random.randn(D, M) \n",
    "b1 = np.zeros(M)\n",
    "# layer 2 weights and bias\n",
    "W2 = np.random.randn(M, K)\n",
    "b2 = np.zeros(K)\n",
    "\n"
   ]
  },
  {
   "cell_type": "markdown",
   "metadata": {},
   "source": [
    "Softmax \n",
    "$$f_j(z) = \\frac{e^{z_j}}{\\sum_k e^{z_k}}$$\n",
    "\n",
    "Forward propagation\n",
    "$$f(x_i, W, b) =  W x_i + b$$"
   ]
  },
  {
   "cell_type": "code",
   "execution_count": 46,
   "metadata": {
    "collapsed": false,
    "scrolled": true
   },
   "outputs": [
    {
     "name": "stdout",
     "output_type": "stream",
     "text": [
      "Score: 0.264\n"
     ]
    }
   ],
   "source": [
    "def softmax(a):\n",
    "    expA = np.exp(a)\n",
    "    return expA / expA.sum(axis=1, keepdims=True)\n",
    "\n",
    "# Predicting probability based on initialized weights\n",
    "def forward(X, W1, b1, W2, b2):\n",
    "    # activation function\n",
    "    Z = np.tanh(X.dot(W1)+b1)\n",
    "    return softmax(Z.dot(W2)+b2)\n",
    "\n",
    "# calculate probability for each class\n",
    "P_Y_given_X = forward(X, W1, b1, W2, b2) \n",
    "#print(P_Y_given_X)\n",
    "\n",
    "# pick highest probability\n",
    "predictions = np.argmax( P_Y_given_X, axis=1)\n",
    "#print(predictions)\n",
    "\n",
    "# calculate the accuracy\n",
    "def classification_rate(Y, P):\n",
    "    return np.mean(Y == P)\n",
    "\n",
    "print( \"Score:\", classification_rate(Y, predictions))"
   ]
  },
  {
   "cell_type": "markdown",
   "metadata": {},
   "source": [
    "# Training and testing ANN\n",
    "1. Initialize weights\n",
    "\n",
    "2. Calculate Cost: difference between Y and Y_hat ( the prediction of Y)<br>\n",
    "    Cost - Cross entropy cost function\n",
    "    \n",
    "3. Minimize Cost<br>\n",
    "    Can use Gradient descent if function is convex(avoiding local minima)<br>\n",
    "cost(hθ, (x),y) = -ylog( hθ(x) ) - (1-y)log( 1- hθ(x) ) "
   ]
  },
  {
   "cell_type": "code",
   "execution_count": 52,
   "metadata": {
    "collapsed": true
   },
   "outputs": [],
   "source": [
    "from sklearn.utils import shuffle\n",
    "\n",
    "def y2indicator(y, K):\n",
    "    N = len(y)\n",
    "    ind = np.zeros((N, K))\n",
    "    for i in range(N):\n",
    "        ind[i, y[i]] = 1\n",
    "    return ind\n",
    "\n",
    "X, Y = get_data()\n",
    "X, Y = shuffle(X, Y)\n",
    "X = X.as_matrix()\n",
    "Y = Y.as_matrix()\n",
    "\n",
    "M = 5\n",
    "D = X.shape[1]\n",
    "K = len(set(Y))\n",
    "\n",
    "# create train and test sets\n",
    "Xtrain = X[:-100]\n",
    "Ytrain = Y[:-100]\n",
    "Ytrain_ind = y2indicator(Ytrain, K)\n",
    "\n",
    "Xtest = X[-100:]\n",
    "Ytest = Y[-100:]\n",
    "Ytest_ind = y2indicator(Ytest, K)\n",
    "\n",
    "# randomly initialize weights\n",
    "W1 = np.random.randn(D, M)\n",
    "b1 = np.zeros(M)\n",
    "W2 = np.random.randn(M, K)\n",
    "b2 = np.zeros(K)\n",
    "\n",
    "def softmax(a):\n",
    "    expA = np.exp(a)\n",
    "    return expA / expA.sum(axis=1, keepdims=True)\n",
    "\n",
    "# Calculate probability based on initialized weights\n",
    "def forward(X, W1, b1, W2, b2):\n",
    "    # activation function \n",
    "    Z = np.tanh(X.dot(W1)+b1) #hidden units\n",
    "    return softmax(Z.dot(W2)+b2), Z\n",
    "\n",
    "def predict(P_Y_given_X): \n",
    "    return np.argmax( P_Y_given_X, axis=1)\n",
    "\n",
    "# calculate the accuracy\n",
    "def classification_rate(Y, P):\n",
    "    return np.mean(Y == P)\n",
    "\n",
    "def cross_entropy(T, pY):\n",
    "    return -np.mean(T*np.log(pY))"
   ]
  },
  {
   "cell_type": "code",
   "execution_count": 54,
   "metadata": {
    "collapsed": false
   },
   "outputs": [
    {
     "name": "stdout",
     "output_type": "stream",
     "text": [
      "0 0.514799430084 0.526590087021\n",
      "1000 0.0224905113846 0.0289414762163\n",
      "2000 0.0153235668534 0.024301872565\n",
      "3000 0.012580815294 0.0242485914696\n",
      "4000 0.0108269100286 0.023966132698\n",
      "5000 0.00939344100372 0.0234135975224\n",
      "6000 0.00830770429822 0.0233711490652\n",
      "7000 0.00758332153343 0.0237659627059\n",
      "8000 0.00706632497503 0.0242005611798\n",
      "9000 0.00666517191653 0.0245247328726\n",
      "Final train classification_rate: 0.9925\n",
      "Final test classification_rate: 0.97\n"
     ]
    },
    {
     "data": {
      "image/png": "[encoded data removed]",
      "text/plain": [
       "<matplotlib.figure.Figure at 0x109dab70>"
      ]
     },
     "metadata": {},
     "output_type": "display_data"
    }
   ],
   "source": [
    "# train loop\n",
    "train_costs = []\n",
    "test_costs = []\n",
    "learning_rate = 0.001\n",
    "for i in range(10000):\n",
    "    pYtrain, Ztrain = forward(Xtrain, W1, b1, W2, b2)\n",
    "    pYtest, Ztest = forward(Xtest, W1, b1, W2, b2)\n",
    "\n",
    "    ctrain = cross_entropy(Ytrain_ind, pYtrain)\n",
    "    ctest = cross_entropy(Ytest_ind, pYtest)\n",
    "    train_costs.append(ctrain)\n",
    "    test_costs.append(ctest)\n",
    "\n",
    "    # gradient descent\n",
    "    W2 -= learning_rate*Ztrain.T.dot(pYtrain - Ytrain_ind)\n",
    "    b2 -= learning_rate*(pYtrain - Ytrain_ind).sum(axis=0)\n",
    "    dZ = (pYtrain - Ytrain_ind).dot(W2.T) * (1 - Ztrain*Ztrain)\n",
    "    W1 -= learning_rate*Xtrain.T.dot(dZ)\n",
    "    b1 -= learning_rate*dZ.sum(axis=0)\n",
    "    \n",
    "    if i % 1000 == 0:\n",
    "        print (i, ctrain, ctest)\n",
    "\n",
    "print (\"Final train classification_rate:\", classification_rate(Ytrain, predict(pYtrain)))\n",
    "print (\"Final test classification_rate:\", classification_rate(Ytest, predict(pYtest)))\n",
    "\n",
    "legend1, = plt.plot(train_costs, label='train cost')\n",
    "legend2, = plt.plot(test_costs, label='test cost')\n",
    "plt.legend([legend1, legend2])\n",
    "plt.show()"
   ]
  }
 ],
 "metadata": {
  "anaconda-cloud": {},
  "kernelspec": {
   "display_name": "Python [default]",
   "language": "python",
   "name": "python3"
  },
  "language_info": {
   "codemirror_mode": {
    "name": "ipython",
    "version": 3
   },
   "file_extension": ".py",
   "mimetype": "text/x-python",
   "name": "python",
   "nbconvert_exporter": "python",
   "pygments_lexer": "ipython3",
   "version": "3.5.2"
  }
 },
 "nbformat": 4,
 "nbformat_minor": 1
}
